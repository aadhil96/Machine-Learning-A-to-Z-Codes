{
 "cells": [
  {
   "cell_type": "code",
   "execution_count": 1,
   "metadata": {},
   "outputs": [],
   "source": [
    "dataset = read.csv('Data.csv')"
   ]
  },
  {
   "cell_type": "code",
   "execution_count": 2,
   "metadata": {},
   "outputs": [
    {
     "data": {
      "text/html": [
       "<table>\n",
       "<caption>A data.frame: 6 × 4</caption>\n",
       "<thead>\n",
       "\t<tr><th></th><th scope=col>Country</th><th scope=col>Age</th><th scope=col>Salary</th><th scope=col>Purchased</th></tr>\n",
       "\t<tr><th></th><th scope=col>&lt;fct&gt;</th><th scope=col>&lt;int&gt;</th><th scope=col>&lt;int&gt;</th><th scope=col>&lt;fct&gt;</th></tr>\n",
       "</thead>\n",
       "<tbody>\n",
       "\t<tr><th scope=row>1</th><td>France </td><td>44</td><td>72000</td><td>No </td></tr>\n",
       "\t<tr><th scope=row>2</th><td>Spain  </td><td>27</td><td>48000</td><td>Yes</td></tr>\n",
       "\t<tr><th scope=row>3</th><td>Germany</td><td>30</td><td>54000</td><td>No </td></tr>\n",
       "\t<tr><th scope=row>4</th><td>Spain  </td><td>38</td><td>61000</td><td>No </td></tr>\n",
       "\t<tr><th scope=row>5</th><td>Germany</td><td>40</td><td>   NA</td><td>Yes</td></tr>\n",
       "\t<tr><th scope=row>6</th><td>France </td><td>35</td><td>58000</td><td>Yes</td></tr>\n",
       "</tbody>\n",
       "</table>\n"
      ],
      "text/latex": [
       "A data.frame: 6 × 4\n",
       "\\begin{tabular}{r|llll}\n",
       "  & Country & Age & Salary & Purchased\\\\\n",
       "  & <fct> & <int> & <int> & <fct>\\\\\n",
       "\\hline\n",
       "\t1 & France  & 44 & 72000 & No \\\\\n",
       "\t2 & Spain   & 27 & 48000 & Yes\\\\\n",
       "\t3 & Germany & 30 & 54000 & No \\\\\n",
       "\t4 & Spain   & 38 & 61000 & No \\\\\n",
       "\t5 & Germany & 40 &    NA & Yes\\\\\n",
       "\t6 & France  & 35 & 58000 & Yes\\\\\n",
       "\\end{tabular}\n"
      ],
      "text/markdown": [
       "\n",
       "A data.frame: 6 × 4\n",
       "\n",
       "| <!--/--> | Country &lt;fct&gt; | Age &lt;int&gt; | Salary &lt;int&gt; | Purchased &lt;fct&gt; |\n",
       "|---|---|---|---|---|\n",
       "| 1 | France  | 44 | 72000 | No  |\n",
       "| 2 | Spain   | 27 | 48000 | Yes |\n",
       "| 3 | Germany | 30 | 54000 | No  |\n",
       "| 4 | Spain   | 38 | 61000 | No  |\n",
       "| 5 | Germany | 40 |    NA | Yes |\n",
       "| 6 | France  | 35 | 58000 | Yes |\n",
       "\n"
      ],
      "text/plain": [
       "  Country Age Salary Purchased\n",
       "1 France  44  72000  No       \n",
       "2 Spain   27  48000  Yes      \n",
       "3 Germany 30  54000  No       \n",
       "4 Spain   38  61000  No       \n",
       "5 Germany 40     NA  Yes      \n",
       "6 France  35  58000  Yes      "
      ]
     },
     "metadata": {},
     "output_type": "display_data"
    }
   ],
   "source": [
    "head(dataset)  "
   ]
  },
  {
   "cell_type": "code",
   "execution_count": 6,
   "metadata": {},
   "outputs": [],
   "source": [
    "dataset$Age = ifelse(is.na(dataset$Age) , ave(dataset$Age , FUN = function(x) mean(x,na.rm=TRUE)),\n",
    "                                              dataset$Age)\n",
    "\n",
    "dataset$Salary = ifelse(is.na(dataset$Salary) , ave(dataset$Salary , FUN = function(x) mean(x,na.rm=TRUE)),\n",
    "                                              dataset$Salary)                     "
   ]
  },
  {
   "cell_type": "code",
   "execution_count": 7,
   "metadata": {},
   "outputs": [
    {
     "data": {
      "text/html": [
       "<table>\n",
       "<caption>A data.frame: 10 × 4</caption>\n",
       "<thead>\n",
       "\t<tr><th scope=col>Country</th><th scope=col>Age</th><th scope=col>Salary</th><th scope=col>Purchased</th></tr>\n",
       "\t<tr><th scope=col>&lt;fct&gt;</th><th scope=col>&lt;dbl&gt;</th><th scope=col>&lt;dbl&gt;</th><th scope=col>&lt;fct&gt;</th></tr>\n",
       "</thead>\n",
       "<tbody>\n",
       "\t<tr><td>France </td><td>44.00000</td><td>72000.00</td><td>No </td></tr>\n",
       "\t<tr><td>Spain  </td><td>27.00000</td><td>48000.00</td><td>Yes</td></tr>\n",
       "\t<tr><td>Germany</td><td>30.00000</td><td>54000.00</td><td>No </td></tr>\n",
       "\t<tr><td>Spain  </td><td>38.00000</td><td>61000.00</td><td>No </td></tr>\n",
       "\t<tr><td>Germany</td><td>40.00000</td><td>63777.78</td><td>Yes</td></tr>\n",
       "\t<tr><td>France </td><td>35.00000</td><td>58000.00</td><td>Yes</td></tr>\n",
       "\t<tr><td>Spain  </td><td>38.77778</td><td>52000.00</td><td>No </td></tr>\n",
       "\t<tr><td>France </td><td>48.00000</td><td>79000.00</td><td>Yes</td></tr>\n",
       "\t<tr><td>Germany</td><td>50.00000</td><td>83000.00</td><td>No </td></tr>\n",
       "\t<tr><td>France </td><td>37.00000</td><td>67000.00</td><td>Yes</td></tr>\n",
       "</tbody>\n",
       "</table>\n"
      ],
      "text/latex": [
       "A data.frame: 10 × 4\n",
       "\\begin{tabular}{llll}\n",
       " Country & Age & Salary & Purchased\\\\\n",
       " <fct> & <dbl> & <dbl> & <fct>\\\\\n",
       "\\hline\n",
       "\t France  & 44.00000 & 72000.00 & No \\\\\n",
       "\t Spain   & 27.00000 & 48000.00 & Yes\\\\\n",
       "\t Germany & 30.00000 & 54000.00 & No \\\\\n",
       "\t Spain   & 38.00000 & 61000.00 & No \\\\\n",
       "\t Germany & 40.00000 & 63777.78 & Yes\\\\\n",
       "\t France  & 35.00000 & 58000.00 & Yes\\\\\n",
       "\t Spain   & 38.77778 & 52000.00 & No \\\\\n",
       "\t France  & 48.00000 & 79000.00 & Yes\\\\\n",
       "\t Germany & 50.00000 & 83000.00 & No \\\\\n",
       "\t France  & 37.00000 & 67000.00 & Yes\\\\\n",
       "\\end{tabular}\n"
      ],
      "text/markdown": [
       "\n",
       "A data.frame: 10 × 4\n",
       "\n",
       "| Country &lt;fct&gt; | Age &lt;dbl&gt; | Salary &lt;dbl&gt; | Purchased &lt;fct&gt; |\n",
       "|---|---|---|---|\n",
       "| France  | 44.00000 | 72000.00 | No  |\n",
       "| Spain   | 27.00000 | 48000.00 | Yes |\n",
       "| Germany | 30.00000 | 54000.00 | No  |\n",
       "| Spain   | 38.00000 | 61000.00 | No  |\n",
       "| Germany | 40.00000 | 63777.78 | Yes |\n",
       "| France  | 35.00000 | 58000.00 | Yes |\n",
       "| Spain   | 38.77778 | 52000.00 | No  |\n",
       "| France  | 48.00000 | 79000.00 | Yes |\n",
       "| Germany | 50.00000 | 83000.00 | No  |\n",
       "| France  | 37.00000 | 67000.00 | Yes |\n",
       "\n"
      ],
      "text/plain": [
       "   Country Age      Salary   Purchased\n",
       "1  France  44.00000 72000.00 No       \n",
       "2  Spain   27.00000 48000.00 Yes      \n",
       "3  Germany 30.00000 54000.00 No       \n",
       "4  Spain   38.00000 61000.00 No       \n",
       "5  Germany 40.00000 63777.78 Yes      \n",
       "6  France  35.00000 58000.00 Yes      \n",
       "7  Spain   38.77778 52000.00 No       \n",
       "8  France  48.00000 79000.00 Yes      \n",
       "9  Germany 50.00000 83000.00 No       \n",
       "10 France  37.00000 67000.00 Yes      "
      ]
     },
     "metadata": {},
     "output_type": "display_data"
    }
   ],
   "source": [
    "dataset"
   ]
  },
  {
   "cell_type": "code",
   "execution_count": 8,
   "metadata": {},
   "outputs": [],
   "source": [
    "dataset$Country = factor(dataset$Country ,\n",
    "                        levels = c('France','Spain','Germany'),\n",
    "                        labels = c(1,2,3))\n",
    "\n",
    "dataset$Purchased = factor(dataset$Purchased ,\n",
    "                        levels = c('No','Yes'),\n",
    "                        labels = c(0,1))"
   ]
  },
  {
   "cell_type": "code",
   "execution_count": 9,
   "metadata": {},
   "outputs": [
    {
     "data": {
      "text/html": [
       "<table>\n",
       "<caption>A data.frame: 10 × 4</caption>\n",
       "<thead>\n",
       "\t<tr><th scope=col>Country</th><th scope=col>Age</th><th scope=col>Salary</th><th scope=col>Purchased</th></tr>\n",
       "\t<tr><th scope=col>&lt;fct&gt;</th><th scope=col>&lt;dbl&gt;</th><th scope=col>&lt;dbl&gt;</th><th scope=col>&lt;fct&gt;</th></tr>\n",
       "</thead>\n",
       "<tbody>\n",
       "\t<tr><td>1</td><td>44.00000</td><td>72000.00</td><td>0</td></tr>\n",
       "\t<tr><td>2</td><td>27.00000</td><td>48000.00</td><td>1</td></tr>\n",
       "\t<tr><td>3</td><td>30.00000</td><td>54000.00</td><td>0</td></tr>\n",
       "\t<tr><td>2</td><td>38.00000</td><td>61000.00</td><td>0</td></tr>\n",
       "\t<tr><td>3</td><td>40.00000</td><td>63777.78</td><td>1</td></tr>\n",
       "\t<tr><td>1</td><td>35.00000</td><td>58000.00</td><td>1</td></tr>\n",
       "\t<tr><td>2</td><td>38.77778</td><td>52000.00</td><td>0</td></tr>\n",
       "\t<tr><td>1</td><td>48.00000</td><td>79000.00</td><td>1</td></tr>\n",
       "\t<tr><td>3</td><td>50.00000</td><td>83000.00</td><td>0</td></tr>\n",
       "\t<tr><td>1</td><td>37.00000</td><td>67000.00</td><td>1</td></tr>\n",
       "</tbody>\n",
       "</table>\n"
      ],
      "text/latex": [
       "A data.frame: 10 × 4\n",
       "\\begin{tabular}{llll}\n",
       " Country & Age & Salary & Purchased\\\\\n",
       " <fct> & <dbl> & <dbl> & <fct>\\\\\n",
       "\\hline\n",
       "\t 1 & 44.00000 & 72000.00 & 0\\\\\n",
       "\t 2 & 27.00000 & 48000.00 & 1\\\\\n",
       "\t 3 & 30.00000 & 54000.00 & 0\\\\\n",
       "\t 2 & 38.00000 & 61000.00 & 0\\\\\n",
       "\t 3 & 40.00000 & 63777.78 & 1\\\\\n",
       "\t 1 & 35.00000 & 58000.00 & 1\\\\\n",
       "\t 2 & 38.77778 & 52000.00 & 0\\\\\n",
       "\t 1 & 48.00000 & 79000.00 & 1\\\\\n",
       "\t 3 & 50.00000 & 83000.00 & 0\\\\\n",
       "\t 1 & 37.00000 & 67000.00 & 1\\\\\n",
       "\\end{tabular}\n"
      ],
      "text/markdown": [
       "\n",
       "A data.frame: 10 × 4\n",
       "\n",
       "| Country &lt;fct&gt; | Age &lt;dbl&gt; | Salary &lt;dbl&gt; | Purchased &lt;fct&gt; |\n",
       "|---|---|---|---|\n",
       "| 1 | 44.00000 | 72000.00 | 0 |\n",
       "| 2 | 27.00000 | 48000.00 | 1 |\n",
       "| 3 | 30.00000 | 54000.00 | 0 |\n",
       "| 2 | 38.00000 | 61000.00 | 0 |\n",
       "| 3 | 40.00000 | 63777.78 | 1 |\n",
       "| 1 | 35.00000 | 58000.00 | 1 |\n",
       "| 2 | 38.77778 | 52000.00 | 0 |\n",
       "| 1 | 48.00000 | 79000.00 | 1 |\n",
       "| 3 | 50.00000 | 83000.00 | 0 |\n",
       "| 1 | 37.00000 | 67000.00 | 1 |\n",
       "\n"
      ],
      "text/plain": [
       "   Country Age      Salary   Purchased\n",
       "1  1       44.00000 72000.00 0        \n",
       "2  2       27.00000 48000.00 1        \n",
       "3  3       30.00000 54000.00 0        \n",
       "4  2       38.00000 61000.00 0        \n",
       "5  3       40.00000 63777.78 1        \n",
       "6  1       35.00000 58000.00 1        \n",
       "7  2       38.77778 52000.00 0        \n",
       "8  1       48.00000 79000.00 1        \n",
       "9  3       50.00000 83000.00 0        \n",
       "10 1       37.00000 67000.00 1        "
      ]
     },
     "metadata": {},
     "output_type": "display_data"
    }
   ],
   "source": [
    "dataset"
   ]
  },
  {
   "cell_type": "code",
   "execution_count": 13,
   "metadata": {},
   "outputs": [
    {
     "name": "stderr",
     "output_type": "stream",
     "text": [
      "Warning message:\n",
      "\"unable to access index for repository https://cran.r-project.org/src/contrib:\n",
      "  cannot open URL 'https://cran.r-project.org/src/contrib/PACKAGES'\"Warning message:\n",
      "\"package 'caTools' is not available (for R version 3.6.1)\"Warning message:\n",
      "\"unable to access index for repository https://cran.r-project.org/bin/windows/contrib/3.6:\n",
      "  cannot open URL 'https://cran.r-project.org/bin/windows/contrib/3.6/PACKAGES'\""
     ]
    }
   ],
   "source": [
    "install.packages('caTools')"
   ]
  },
  {
   "cell_type": "code",
   "execution_count": 12,
   "metadata": {},
   "outputs": [
    {
     "ename": "ERROR",
     "evalue": "Error in library(caTools): there is no package called 'caTools'\n",
     "output_type": "error",
     "traceback": [
      "Error in library(caTools): there is no package called 'caTools'\nTraceback:\n",
      "1. library(caTools)"
     ]
    }
   ],
   "source": [
    "library(caTools)"
   ]
  },
  {
   "cell_type": "code",
   "execution_count": null,
   "metadata": {},
   "outputs": [],
   "source": [
    "slo"
   ]
  }
 ],
 "metadata": {
  "kernelspec": {
   "display_name": "R",
   "language": "R",
   "name": "ir"
  },
  "language_info": {
   "codemirror_mode": "r",
   "file_extension": ".r",
   "mimetype": "text/x-r-source",
   "name": "R",
   "pygments_lexer": "r",
   "version": "3.6.1"
  }
 },
 "nbformat": 4,
 "nbformat_minor": 4
}
