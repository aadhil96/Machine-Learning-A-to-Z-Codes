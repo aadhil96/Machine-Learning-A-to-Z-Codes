{
  "nbformat": 4,
  "nbformat_minor": 0,
  "metadata": {
    "accelerator": "GPU",
    "colab": {
      "name": "Bagging, Random Forest and AdaBoost for Customer Churn ",
      "provenance": []
    },
    "kernelspec": {
      "display_name": "Python 3",
      "name": "python3"
    }
  },
  "cells": [
    {
      "cell_type": "code",
      "metadata": {
        "id": "XD7CnGJBiPLW"
      },
      "source": [
        "import datetime\r\n",
        "\r\n",
        "import matplotlib.pyplot as plt\r\n",
        "import numpy as np\r\n",
        "import pandas as pd\r\n",
        "import pandas_datareader.data as web\r\n",
        "import seaborn as sns\r\n",
        "import sklearn\r\n",
        "from sklearn.ensemble import (\r\n",
        "    BaggingRegressor, RandomForestRegressor, AdaBoostRegressor\r\n",
        ")\r\n",
        "from sklearn.metrics import mean_squared_error\r\n",
        "from sklearn.model_selection import train_test_split\r\n",
        "from sklearn.preprocessing import scale\r\n",
        "from sklearn.tree import DecisionTreeRegressor"
      ],
      "execution_count": 1,
      "outputs": []
    },
    {
      "cell_type": "code",
      "metadata": {
        "id": "ZG05asFDiXmo"
      },
      "source": [
        "# Set the random seed, number of estimators\r\n",
        "# and the \"step factor\" used to plot the graph of MSE\r\n",
        "# for each method\r\n",
        "random_state = 42\r\n",
        "n_jobs = 1  # Parallelisation factor for bagging, random forests\r\n",
        "n_estimators = 200\r\n",
        "step_factor = 10\r\n",
        "axis_step = int(n_estimators/step_factor)\r\n"
      ],
      "execution_count": 2,
      "outputs": []
    },
    {
      "cell_type": "code",
      "metadata": {
        "colab": {
          "base_uri": "https://localhost:8080/"
        },
        "id": "Jtdb2vxqibUd",
        "outputId": "ab13bc9a-3886-4cd2-9748-8ec432496403"
      },
      "source": [
        "# Importing the dataset\r\n",
        "dataset = pd.read_csv('Churn_Modelling.csv')\r\n",
        "X = dataset.iloc[:, 3:-1].values\r\n",
        "y = dataset.iloc[:, -1].values\r\n",
        "print(X)\r\n",
        "print(y)"
      ],
      "execution_count": 3,
      "outputs": [
        {
          "output_type": "stream",
          "text": [
            "[[619 'France' 'Female' ... 1 1 101348.88]\n",
            " [608 'Spain' 'Female' ... 0 1 112542.58]\n",
            " [502 'France' 'Female' ... 1 0 113931.57]\n",
            " ...\n",
            " [709 'France' 'Female' ... 0 1 42085.58]\n",
            " [772 'Germany' 'Male' ... 1 0 92888.52]\n",
            " [792 'France' 'Female' ... 1 0 38190.78]]\n",
            "[1 0 1 ... 1 1 0]\n"
          ],
          "name": "stdout"
        }
      ]
    },
    {
      "cell_type": "code",
      "metadata": {
        "colab": {
          "base_uri": "https://localhost:8080/"
        },
        "id": "8rgH3RsiiigI",
        "outputId": "325f94b7-ee85-4e4c-dc8e-bea48b847611"
      },
      "source": [
        "# Encoding categorical data\r\n",
        "# Label Encoding the \"Gender\" column\r\n",
        "from sklearn.preprocessing import LabelEncoder\r\n",
        "le = LabelEncoder()\r\n",
        "X[:, 2] = le.fit_transform(X[:, 2])\r\n",
        "print(X)\r\n",
        "# One Hot Encoding the \"Geography\" column\r\n",
        "from sklearn.compose import ColumnTransformer\r\n",
        "from sklearn.preprocessing import OneHotEncoder\r\n",
        "ct = ColumnTransformer(transformers=[('encoder', OneHotEncoder(), [1])], remainder='passthrough')\r\n",
        "X = np.array(ct.fit_transform(X))\r\n",
        "print(X)"
      ],
      "execution_count": 4,
      "outputs": [
        {
          "output_type": "stream",
          "text": [
            "[[619 'France' 0 ... 1 1 101348.88]\n",
            " [608 'Spain' 0 ... 0 1 112542.58]\n",
            " [502 'France' 0 ... 1 0 113931.57]\n",
            " ...\n",
            " [709 'France' 0 ... 0 1 42085.58]\n",
            " [772 'Germany' 1 ... 1 0 92888.52]\n",
            " [792 'France' 0 ... 1 0 38190.78]]\n",
            "[[1.0 0.0 0.0 ... 1 1 101348.88]\n",
            " [0.0 0.0 1.0 ... 0 1 112542.58]\n",
            " [1.0 0.0 0.0 ... 1 0 113931.57]\n",
            " ...\n",
            " [1.0 0.0 0.0 ... 0 1 42085.58]\n",
            " [0.0 1.0 0.0 ... 1 0 92888.52]\n",
            " [1.0 0.0 0.0 ... 1 0 38190.78]]\n"
          ],
          "name": "stdout"
        }
      ]
    },
    {
      "cell_type": "code",
      "metadata": {
        "id": "bDvBEn-Xilrv"
      },
      "source": [
        "# Splitting the dataset into the Training set and Test set\r\n",
        "from sklearn.model_selection import train_test_split\r\n",
        "X_train, X_test, y_train, y_test = train_test_split(X, y, test_size = 0.2, random_state = 0)"
      ],
      "execution_count": 5,
      "outputs": []
    },
    {
      "cell_type": "code",
      "metadata": {
        "id": "UBGoGlOlioht"
      },
      "source": [
        "# Pre-create the arrays which will contain the MSE for\r\n",
        "# each particular ensemble method\r\n",
        "estimators = np.zeros(axis_step)\r\n",
        "bagging_mse = np.zeros(axis_step)\r\n",
        "rf_mse = np.zeros(axis_step)\r\n",
        "boosting_mse = np.zeros(axis_step)"
      ],
      "execution_count": 6,
      "outputs": []
    },
    {
      "cell_type": "code",
      "metadata": {
        "colab": {
          "base_uri": "https://localhost:8080/"
        },
        "id": "GUP0jwEBirad",
        "outputId": "9db2b947-1435-4ab0-83e2-b0358bfdf2f4"
      },
      "source": [
        "# Estimate the Bagging MSE over the full number\r\n",
        "# of estimators, across a step size (\"step_factor\")\r\n",
        "for i in range(0, axis_step):\r\n",
        "    print(\"Bagging Estimator: %d of %d...\" % (\r\n",
        "        step_factor*(i+1), n_estimators)\r\n",
        "    )\r\n",
        "    bagging = BaggingRegressor(\r\n",
        "        DecisionTreeRegressor(), \r\n",
        "        n_estimators=step_factor*(i+1),\r\n",
        "        n_jobs=n_jobs,\r\n",
        "        random_state=random_state\r\n",
        "    )\r\n",
        "    bagging.fit(X_train, y_train)\r\n",
        "    mse = mean_squared_error(y_test, bagging.predict(X_test))\r\n",
        "    estimators[i] = step_factor*(i+1)\r\n",
        "    bagging_mse[i] = mse"
      ],
      "execution_count": 7,
      "outputs": [
        {
          "output_type": "stream",
          "text": [
            "Bagging Estimator: 10 of 200...\n",
            "Bagging Estimator: 20 of 200...\n",
            "Bagging Estimator: 30 of 200...\n",
            "Bagging Estimator: 40 of 200...\n",
            "Bagging Estimator: 50 of 200...\n",
            "Bagging Estimator: 60 of 200...\n",
            "Bagging Estimator: 70 of 200...\n",
            "Bagging Estimator: 80 of 200...\n",
            "Bagging Estimator: 90 of 200...\n",
            "Bagging Estimator: 100 of 200...\n",
            "Bagging Estimator: 110 of 200...\n",
            "Bagging Estimator: 120 of 200...\n",
            "Bagging Estimator: 130 of 200...\n",
            "Bagging Estimator: 140 of 200...\n",
            "Bagging Estimator: 150 of 200...\n",
            "Bagging Estimator: 160 of 200...\n",
            "Bagging Estimator: 170 of 200...\n",
            "Bagging Estimator: 180 of 200...\n",
            "Bagging Estimator: 190 of 200...\n",
            "Bagging Estimator: 200 of 200...\n"
          ],
          "name": "stdout"
        }
      ]
    },
    {
      "cell_type": "code",
      "metadata": {
        "colab": {
          "base_uri": "https://localhost:8080/"
        },
        "id": "if73BAlt-yRg",
        "outputId": "04bafba9-4ce8-4564-f226-31333a2e29e9"
      },
      "source": [
        "# Estimate the Random Forest MSE over the full number\r\n",
        "# of estimators, across a step size (\"step_factor\")\r\n",
        "for i in range(0, axis_step):\r\n",
        "    print(\"Random Forest Estimator: %d of %d...\" % (\r\n",
        "        step_factor*(i+1), n_estimators)\r\n",
        "    )\r\n",
        "    rf = RandomForestRegressor(\r\n",
        "        n_estimators=step_factor*(i+1),\r\n",
        "        n_jobs=n_jobs,\r\n",
        "        random_state=random_state\r\n",
        "    )\r\n",
        "    rf.fit(X_train, y_train)\r\n",
        "    mse = mean_squared_error(y_test, rf.predict(X_test))\r\n",
        "    estimators[i] = step_factor*(i+1)\r\n",
        "    rf_mse[i] = mse"
      ],
      "execution_count": 8,
      "outputs": [
        {
          "output_type": "stream",
          "text": [
            "Random Forest Estimator: 10 of 200...\n",
            "Random Forest Estimator: 20 of 200...\n",
            "Random Forest Estimator: 30 of 200...\n",
            "Random Forest Estimator: 40 of 200...\n",
            "Random Forest Estimator: 50 of 200...\n",
            "Random Forest Estimator: 60 of 200...\n",
            "Random Forest Estimator: 70 of 200...\n",
            "Random Forest Estimator: 80 of 200...\n",
            "Random Forest Estimator: 90 of 200...\n",
            "Random Forest Estimator: 100 of 200...\n",
            "Random Forest Estimator: 110 of 200...\n",
            "Random Forest Estimator: 120 of 200...\n",
            "Random Forest Estimator: 130 of 200...\n",
            "Random Forest Estimator: 140 of 200...\n",
            "Random Forest Estimator: 150 of 200...\n",
            "Random Forest Estimator: 160 of 200...\n",
            "Random Forest Estimator: 170 of 200...\n",
            "Random Forest Estimator: 180 of 200...\n",
            "Random Forest Estimator: 190 of 200...\n",
            "Random Forest Estimator: 200 of 200...\n"
          ],
          "name": "stdout"
        }
      ]
    },
    {
      "cell_type": "code",
      "metadata": {
        "id": "DBmm1VCboRYL",
        "colab": {
          "base_uri": "https://localhost:8080/"
        },
        "outputId": "c0805889-c389-4418-e2cf-d32226134d18"
      },
      "source": [
        "# Estimate the AdaBoost MSE over the full number\r\n",
        "# of estimators, across a step size (\"step_factor\")\r\n",
        "for i in range(0, axis_step):\r\n",
        "    print(\"Boosting Estimator: %d of %d...\" % (\r\n",
        "        step_factor*(i+1), n_estimators)\r\n",
        "    )\r\n",
        "    boosting = AdaBoostRegressor(\r\n",
        "        DecisionTreeRegressor(),\r\n",
        "        n_estimators=step_factor*(i+1),\r\n",
        "        random_state=random_state,\r\n",
        "        learning_rate=0.01\r\n",
        "    )\r\n",
        "    boosting.fit(X_train, y_train)\r\n",
        "    mse = mean_squared_error(y_test, boosting.predict(X_test))\r\n",
        "    estimators[i] = step_factor*(i+1)\r\n",
        "    boosting_mse[i] = mse"
      ],
      "execution_count": 9,
      "outputs": [
        {
          "output_type": "stream",
          "text": [
            "Boosting Estimator: 10 of 200...\n",
            "Boosting Estimator: 20 of 200...\n",
            "Boosting Estimator: 30 of 200...\n",
            "Boosting Estimator: 40 of 200...\n",
            "Boosting Estimator: 50 of 200...\n",
            "Boosting Estimator: 60 of 200...\n",
            "Boosting Estimator: 70 of 200...\n",
            "Boosting Estimator: 80 of 200...\n",
            "Boosting Estimator: 90 of 200...\n",
            "Boosting Estimator: 100 of 200...\n",
            "Boosting Estimator: 110 of 200...\n",
            "Boosting Estimator: 120 of 200...\n",
            "Boosting Estimator: 130 of 200...\n",
            "Boosting Estimator: 140 of 200...\n",
            "Boosting Estimator: 150 of 200...\n",
            "Boosting Estimator: 160 of 200...\n",
            "Boosting Estimator: 170 of 200...\n",
            "Boosting Estimator: 180 of 200...\n",
            "Boosting Estimator: 190 of 200...\n",
            "Boosting Estimator: 200 of 200...\n"
          ],
          "name": "stdout"
        }
      ]
    },
    {
      "cell_type": "code",
      "metadata": {
        "colab": {
          "base_uri": "https://localhost:8080/",
          "height": 513
        },
        "id": "56NKAR4VBCYj",
        "outputId": "87af2d70-6023-44ad-f3df-b75c47b25bf6"
      },
      "source": [
        "# Plot the chart of MSE versus number of estimators\r\n",
        "plt.figure(figsize=(8, 8))\r\n",
        "plt.title('Bagging, Random Forest and Boosting comparison')\r\n",
        "plt.plot(estimators, bagging_mse, 'b-', color=\"black\", label='Bagging')\r\n",
        "plt.plot(estimators, rf_mse, 'b-', color=\"blue\", label='Random Forest')\r\n",
        "plt.plot(estimators, boosting_mse, 'b-', color=\"red\", label='AdaBoost')\r\n",
        "plt.legend(loc='upper right')\r\n",
        "plt.xlabel('Estimators')\r\n",
        "plt.ylabel('Mean Squared Error')\r\n",
        "plt.show()"
      ],
      "execution_count": 10,
      "outputs": [
        {
          "output_type": "display_data",
          "data": {
            "image/png": "[encoded data removed]",
            "text/plain": [
              "<Figure size 576x576 with 1 Axes>"
            ]
          },
          "metadata": {
            "tags": [],
            "needs_background": "light"
          }
        }
      ]
    }
  ]
}